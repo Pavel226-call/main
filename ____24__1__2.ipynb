{
  "nbformat": 4,
  "nbformat_minor": 0,
  "metadata": {
    "colab": {
      "provenance": [],
      "authorship_tag": "ABX9TyNHWZ4hlAQ5BeTbjpoDGKzV",
      "include_colab_link": true
    },
    "kernelspec": {
      "name": "python3",
      "display_name": "Python 3"
    },
    "language_info": {
      "name": "python"
    }
  },
  "cells": [
    {
      "cell_type": "markdown",
      "metadata": {
        "id": "view-in-github",
        "colab_type": "text"
      },
      "source": [
        "<a href=\"https://colab.research.google.com/github/Pavel226-call/main/blob/main/____24__1__2.ipynb\" target=\"_parent\"><img src=\"https://colab.research.google.com/assets/colab-badge.svg\" alt=\"Open In Colab\"/></a>"
      ]
    },
    {
      "cell_type": "code",
      "execution_count": null,
      "metadata": {
        "colab": {
          "base_uri": "https://localhost:8080/"
        },
        "id": "yHB1CxFnHHX6",
        "outputId": "90ade977-dcb0-480d-c054-7be1a87bec9c"
      },
      "outputs": [
        {
          "output_type": "stream",
          "name": "stdout",
          "text": [
            "pacat,dva,iyyyyy\n",
            "5 3 3 6\n"
          ]
        }
      ],
      "source": [
        "a = input()\n",
        "s = a.split(\",\")\n",
        "print((len(s[0])), len(s[1]), len(s[-2]), len(s[-1]))"
      ]
    },
    {
      "cell_type": "code",
      "source": [
        "a = input()\n",
        "s = a.split(',')\n",
        "print(s)"
      ],
      "metadata": {
        "colab": {
          "base_uri": "https://localhost:8080/"
        },
        "id": "eYHPKacbLvBx",
        "outputId": "4d55003e-af5c-45fd-aa86-44dcc9cb70bb"
      },
      "execution_count": null,
      "outputs": [
        {
          "output_type": "stream",
          "name": "stdout",
          "text": [
            "раз,два,три\n",
            "['раз', 'два', 'три']\n"
          ]
        }
      ]
    }
  ]
}